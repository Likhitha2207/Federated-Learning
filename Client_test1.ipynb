{
 "cells": [
  {
   "cell_type": "code",
   "execution_count": 1,
   "id": "9d7375e6",
   "metadata": {},
   "outputs": [
    {
     "name": "stdout",
     "output_type": "stream",
     "text": [
      "WARNING:tensorflow:From C:\\Users\\lenovo\\AppData\\Local\\Programs\\Python\\Python310\\lib\\site-packages\\keras\\src\\losses.py:2976: The name tf.losses.sparse_softmax_cross_entropy is deprecated. Please use tf.compat.v1.losses.sparse_softmax_cross_entropy instead.\n",
      "\n"
     ]
    }
   ],
   "source": [
    "from tensorflow.keras.preprocessing.text import Tokenizer\n",
    "import numpy as np \n",
    "import pandas as pd \n",
    "\n",
    "import re\n",
    "from bs4 import BeautifulSoup"
   ]
  },
  {
   "cell_type": "code",
   "execution_count": 2,
   "id": "59046807",
   "metadata": {
    "scrolled": true
   },
   "outputs": [],
   "source": [
    "with open('text_input.txt', encoding='utf-8') as file:\n",
    "    data = file.read()"
   ]
  },
  {
   "cell_type": "code",
   "execution_count": 3,
   "id": "79d9c040",
   "metadata": {},
   "outputs": [
    {
     "data": {
      "text/plain": [
       "[27, 28, 29, 1, 30, 31, 32, 33, 2, 34, 35, 2, 3, 4, 5]"
      ]
     },
     "execution_count": 3,
     "metadata": {},
     "output_type": "execute_result"
    }
   ],
   "source": [
    "soup=BeautifulSoup(data,'html.parser')#remove html tag using beautifulsoup\n",
    "non_html_text=soup.get_text()\n",
    "    \n",
    "#remove unwanted charectors and symbols\n",
    "text=re.sub('[^a-zA-Z0-9\\s]',' ',non_html_text)\n",
    "text = text.replace('\\n', '').replace('\\r', '').replace('\\ufeff', '')\n",
    "\n",
    "#remove extra spaces\n",
    "z = []\n",
    "for i in text.split():\n",
    "    if i not in z:\n",
    "        z.append(i)  \n",
    "text = ' '.join(z)\n",
    "\n",
    "#tokenize text\n",
    "    \n",
    "tokenizer=Tokenizer()\n",
    "tokenizer.fit_on_texts([text])\n",
    "sequence=tokenizer.texts_to_sequences([text])[0]\n",
    "\n",
    "sequence[:15]"
   ]
  },
  {
   "cell_type": "code",
   "execution_count": 4,
   "id": "a8fec8cb",
   "metadata": {},
   "outputs": [
    {
     "data": {
      "text/plain": [
       "695"
      ]
     },
     "execution_count": 4,
     "metadata": {},
     "output_type": "execute_result"
    }
   ],
   "source": [
    "ip_dim=len(tokenizer.word_index)+1\n",
    "ip_dim"
   ]
  },
  {
   "cell_type": "code",
   "execution_count": 5,
   "id": "4abf663a",
   "metadata": {},
   "outputs": [
    {
     "name": "stdout",
     "output_type": "stream",
     "text": [
      "The Length of sequences are:  717\n"
     ]
    }
   ],
   "source": [
    "#traning sequence\n",
    "\n",
    "sequences = []\n",
    "\n",
    "for i in range(3, len(sequence)):\n",
    "    words = sequence[i-3:i+1]\n",
    "    sequences.append(words)\n",
    "    \n",
    "print(\"The Length of sequences are: \", len(sequences))\n",
    "sequences = np.array(sequences)\n",
    "\n",
    "\n",
    "x,y=[],[]\n",
    "for i in sequences:\n",
    "    x.append(i[0:3])\n",
    "    y.append(i[3])\n",
    "x=np.array(x)\n",
    "y=np.array(y)"
   ]
  },
  {
   "cell_type": "code",
   "execution_count": 6,
   "id": "e60da5f9",
   "metadata": {},
   "outputs": [
    {
     "data": {
      "text/plain": [
       "(array([[27, 28, 29],\n",
       "        [28, 29,  1],\n",
       "        [29,  1, 30],\n",
       "        [ 1, 30, 31],\n",
       "        [30, 31, 32],\n",
       "        [31, 32, 33],\n",
       "        [32, 33,  2],\n",
       "        [33,  2, 34],\n",
       "        [ 2, 34, 35],\n",
       "        [34, 35,  2]]),\n",
       " array([ 1, 30, 31, 32, 33,  2, 34, 35,  2,  3]))"
      ]
     },
     "execution_count": 6,
     "metadata": {},
     "output_type": "execute_result"
    }
   ],
   "source": [
    "x[:10],y[:10]"
   ]
  },
  {
   "cell_type": "code",
   "execution_count": 7,
   "id": "024ba6d0",
   "metadata": {},
   "outputs": [
    {
     "data": {
      "text/plain": [
       "array([[0., 1., 0., ..., 0., 0., 0.],\n",
       "       [0., 0., 0., ..., 0., 0., 0.],\n",
       "       [0., 0., 0., ..., 0., 0., 0.],\n",
       "       ...,\n",
       "       [0., 0., 0., ..., 0., 0., 0.],\n",
       "       [0., 0., 1., ..., 0., 0., 0.],\n",
       "       [0., 0., 0., ..., 0., 0., 0.]], dtype=float32)"
      ]
     },
     "execution_count": 7,
     "metadata": {},
     "output_type": "execute_result"
    }
   ],
   "source": [
    "from tensorflow.keras.preprocessing.sequence import pad_sequences\n",
    "from tensorflow.keras.utils import to_categorical\n",
    "\n",
    "# # # Pad \"sequences\" to a fixed length\n",
    "# max_len = 10\n",
    "# x = pad_sequences(x, maxlen=max_len)\n",
    "# y = pad_sequences(y, maxlen=max_len)\n",
    "\n",
    "# Convert y to categorical\n",
    "\n",
    "y = to_categorical(y, num_classes=ip_dim)\n",
    "y[:10]"
   ]
  },
  {
   "cell_type": "code",
   "execution_count": 8,
   "id": "36f9a635",
   "metadata": {},
   "outputs": [
    {
     "name": "stdout",
     "output_type": "stream",
     "text": [
      "WARNING:tensorflow:From C:\\Users\\lenovo\\AppData\\Local\\Programs\\Python\\Python310\\lib\\site-packages\\keras\\src\\backend.py:873: The name tf.get_default_graph is deprecated. Please use tf.compat.v1.get_default_graph instead.\n",
      "\n",
      "Model: \"sequential\"\n",
      "_________________________________________________________________\n",
      " Layer (type)                Output Shape              Param #   \n",
      "=================================================================\n",
      " embedding (Embedding)       (None, 3, 10)             6950      \n",
      "                                                                 \n",
      " lstm (LSTM)                 (None, 3, 1000)           4044000   \n",
      "                                                                 \n",
      " lstm_1 (LSTM)               (None, 1000)              8004000   \n",
      "                                                                 \n",
      " dense (Dense)               (None, 1000)              1001000   \n",
      "                                                                 \n",
      " dense_1 (Dense)             (None, 695)               695695    \n",
      "                                                                 \n",
      "=================================================================\n",
      "Total params: 13751645 (52.46 MB)\n",
      "Trainable params: 13751645 (52.46 MB)\n",
      "Non-trainable params: 0 (0.00 Byte)\n",
      "_________________________________________________________________\n"
     ]
    }
   ],
   "source": [
    "from tensorflow.keras.models import Sequential\n",
    "from tensorflow.keras.layers import LSTM,Dense,Embedding\n",
    "model=Sequential()\n",
    "model.add(Embedding(ip_dim,10,input_length=3))\n",
    "model.add(LSTM(1000,return_sequences=True))\n",
    "model.add(LSTM(1000))\n",
    "model.add(Dense(1000, activation=\"relu\"))\n",
    "model.add(Dense(ip_dim,activation='softmax'))\n",
    "model.summary()"
   ]
  },
  {
   "cell_type": "code",
   "execution_count": 9,
   "id": "6c62f37a-14a2-49c4-906c-237a895bfcb0",
   "metadata": {},
   "outputs": [],
   "source": [
    "#text"
   ]
  },
  {
   "cell_type": "code",
   "execution_count": 10,
   "id": "b96bd91b",
   "metadata": {},
   "outputs": [
    {
     "name": "stdout",
     "output_type": "stream",
     "text": [
      "WARNING:tensorflow:From C:\\Users\\lenovo\\AppData\\Local\\Programs\\Python\\Python310\\lib\\site-packages\\keras\\src\\optimizers\\__init__.py:309: The name tf.train.Optimizer is deprecated. Please use tf.compat.v1.train.Optimizer instead.\n",
      "\n"
     ]
    }
   ],
   "source": [
    "model.compile(loss='categorical_crossentropy',optimizer='adam',metrics=['accuracy'])"
   ]
  },
  {
   "cell_type": "code",
   "execution_count": 11,
   "id": "5c59ec96-ae92-4e57-8786-660126be0cf5",
   "metadata": {},
   "outputs": [
    {
     "name": "stdout",
     "output_type": "stream",
     "text": [
      "Epoch 1/50\n",
      "WARNING:tensorflow:From C:\\Users\\lenovo\\AppData\\Local\\Programs\\Python\\Python310\\lib\\site-packages\\keras\\src\\utils\\tf_utils.py:492: The name tf.ragged.RaggedTensorValue is deprecated. Please use tf.compat.v1.ragged.RaggedTensorValue instead.\n",
      "\n",
      "WARNING:tensorflow:From C:\\Users\\lenovo\\AppData\\Local\\Programs\\Python\\Python310\\lib\\site-packages\\keras\\src\\engine\\base_layer_utils.py:384: The name tf.executing_eagerly_outside_functions is deprecated. Please use tf.compat.v1.executing_eagerly_outside_functions instead.\n",
      "\n",
      "12/12 [==============================] - 8s 184ms/step - loss: 6.5489 - accuracy: 0.0000e+00\n",
      "Epoch 2/50\n",
      "12/12 [==============================] - 2s 182ms/step - loss: 6.5454 - accuracy: 0.0000e+00\n",
      "Epoch 3/50\n",
      "12/12 [==============================] - 2s 189ms/step - loss: 6.5444 - accuracy: 0.0028\n",
      "Epoch 4/50\n",
      "12/12 [==============================] - 2s 189ms/step - loss: 6.5448 - accuracy: 0.0042\n",
      "Epoch 5/50\n",
      "12/12 [==============================] - 2s 185ms/step - loss: 6.5430 - accuracy: 0.0056\n",
      "Epoch 6/50\n",
      "12/12 [==============================] - 2s 187ms/step - loss: 6.5291 - accuracy: 0.0042\n",
      "Epoch 7/50\n",
      "12/12 [==============================] - 3s 219ms/step - loss: 6.3856 - accuracy: 0.0056\n",
      "Epoch 8/50\n",
      "12/12 [==============================] - 2s 205ms/step - loss: 5.9886 - accuracy: 0.0042\n",
      "Epoch 9/50\n",
      "12/12 [==============================] - 2s 190ms/step - loss: 5.2001 - accuracy: 0.0153\n",
      "Epoch 10/50\n",
      "12/12 [==============================] - 3s 228ms/step - loss: 4.2600 - accuracy: 0.0572\n",
      "Epoch 11/50\n",
      "12/12 [==============================] - 3s 226ms/step - loss: 3.2711 - accuracy: 0.1604\n",
      "Epoch 12/50\n",
      "12/12 [==============================] - 3s 209ms/step - loss: 2.4438 - accuracy: 0.3194\n",
      "Epoch 13/50\n",
      "12/12 [==============================] - 2s 192ms/step - loss: 1.9157 - accuracy: 0.4449\n",
      "Epoch 14/50\n",
      "12/12 [==============================] - 2s 193ms/step - loss: 1.3916 - accuracy: 0.5676\n",
      "Epoch 15/50\n",
      "12/12 [==============================] - 3s 227ms/step - loss: 0.9823 - accuracy: 0.7183\n",
      "Epoch 16/50\n",
      "12/12 [==============================] - 3s 208ms/step - loss: 0.6678 - accuracy: 0.8033\n",
      "Epoch 17/50\n",
      "12/12 [==============================] - 2s 200ms/step - loss: 0.5078 - accuracy: 0.8633\n",
      "Epoch 18/50\n",
      "12/12 [==============================] - 3s 229ms/step - loss: 0.4287 - accuracy: 0.8661\n",
      "Epoch 19/50\n",
      "12/12 [==============================] - 2s 195ms/step - loss: 0.3691 - accuracy: 0.8996\n",
      "Epoch 20/50\n",
      "12/12 [==============================] - 2s 192ms/step - loss: 0.3764 - accuracy: 0.9079\n",
      "Epoch 21/50\n",
      "12/12 [==============================] - 2s 201ms/step - loss: 0.3704 - accuracy: 0.8940\n",
      "Epoch 22/50\n",
      "12/12 [==============================] - 2s 199ms/step - loss: 0.4356 - accuracy: 0.8773\n",
      "Epoch 23/50\n",
      "12/12 [==============================] - 2s 207ms/step - loss: 0.4188 - accuracy: 0.8898\n",
      "Epoch 24/50\n",
      "12/12 [==============================] - 3s 226ms/step - loss: 0.3490 - accuracy: 0.9093\n",
      "Epoch 25/50\n",
      "12/12 [==============================] - 3s 210ms/step - loss: 0.2365 - accuracy: 0.9261\n",
      "Epoch 26/50\n",
      "12/12 [==============================] - 2s 202ms/step - loss: 0.1835 - accuracy: 0.9442\n",
      "Epoch 27/50\n",
      "12/12 [==============================] - 3s 229ms/step - loss: 0.2150 - accuracy: 0.9470\n",
      "Epoch 28/50\n",
      "12/12 [==============================] - 2s 198ms/step - loss: 0.1870 - accuracy: 0.9554\n",
      "Epoch 29/50\n",
      "12/12 [==============================] - 2s 197ms/step - loss: 0.1483 - accuracy: 0.9609\n",
      "Epoch 30/50\n",
      "12/12 [==============================] - 2s 198ms/step - loss: 0.1752 - accuracy: 0.9609\n",
      "Epoch 31/50\n",
      "12/12 [==============================] - 2s 195ms/step - loss: 0.1494 - accuracy: 0.9596\n",
      "Epoch 32/50\n",
      "12/12 [==============================] - 2s 193ms/step - loss: 0.1841 - accuracy: 0.9498\n",
      "Epoch 33/50\n",
      "12/12 [==============================] - 2s 207ms/step - loss: 0.1532 - accuracy: 0.9623\n",
      "Epoch 34/50\n",
      "12/12 [==============================] - 2s 193ms/step - loss: 0.1467 - accuracy: 0.9665\n",
      "Epoch 35/50\n",
      "12/12 [==============================] - 2s 201ms/step - loss: 0.1342 - accuracy: 0.9651\n",
      "Epoch 36/50\n",
      "12/12 [==============================] - 2s 201ms/step - loss: 0.1175 - accuracy: 0.9665\n",
      "Epoch 37/50\n",
      "12/12 [==============================] - 2s 199ms/step - loss: 0.1101 - accuracy: 0.9679\n",
      "Epoch 38/50\n",
      "12/12 [==============================] - 2s 197ms/step - loss: 0.1336 - accuracy: 0.9693\n",
      "Epoch 39/50\n",
      "12/12 [==============================] - 2s 198ms/step - loss: 0.0839 - accuracy: 0.9763\n",
      "Epoch 40/50\n",
      "12/12 [==============================] - 2s 199ms/step - loss: 0.0803 - accuracy: 0.9791\n",
      "Epoch 41/50\n",
      "12/12 [==============================] - 2s 197ms/step - loss: 0.0665 - accuracy: 0.9874\n",
      "Epoch 42/50\n",
      "12/12 [==============================] - 2s 196ms/step - loss: 0.0535 - accuracy: 0.9861\n",
      "Epoch 43/50\n",
      "12/12 [==============================] - 2s 201ms/step - loss: 0.0929 - accuracy: 0.9791\n",
      "Epoch 44/50\n",
      "12/12 [==============================] - 3s 209ms/step - loss: 0.0631 - accuracy: 0.9902\n",
      "Epoch 45/50\n",
      "12/12 [==============================] - 2s 200ms/step - loss: 0.0708 - accuracy: 0.9902\n",
      "Epoch 46/50\n",
      "12/12 [==============================] - 2s 205ms/step - loss: 0.0345 - accuracy: 0.9902\n",
      "Epoch 47/50\n",
      "12/12 [==============================] - 2s 207ms/step - loss: 0.0235 - accuracy: 0.9916\n",
      "Epoch 48/50\n",
      "12/12 [==============================] - 2s 191ms/step - loss: 0.0393 - accuracy: 0.9944\n",
      "Epoch 49/50\n",
      "12/12 [==============================] - 2s 188ms/step - loss: 0.0467 - accuracy: 0.9930\n",
      "Epoch 50/50\n",
      "12/12 [==============================] - 3s 216ms/step - loss: 0.0385 - accuracy: 0.9930\n"
     ]
    }
   ],
   "source": [
    "history = model.fit(x,y,batch_size=62,epochs=50)"
   ]
  },
  {
   "cell_type": "code",
   "execution_count": 12,
   "id": "ef431445-6a2c-48a9-b73f-a0273112efab",
   "metadata": {},
   "outputs": [
    {
     "name": "stdout",
     "output_type": "stream",
     "text": [
      "Test loss: 0.050541605800390244\n",
      "Test accuracy: 0.991631805896759\n"
     ]
    }
   ],
   "source": [
    "model.save('client1.keras')\n",
    "score = model.evaluate(x, y, verbose=0)\n",
    "print('Test loss:', score[0])\n",
    "print('Test accuracy:', score[1])"
   ]
  },
  {
   "cell_type": "code",
   "execution_count": 14,
   "id": "2d34b86c-5c0e-4878-ae4c-78741f0e1b52",
   "metadata": {},
   "outputs": [
    {
     "data": {
      "image/png": "[encoded data removed]",
      "text/plain": [
       "<Figure size 640x480 with 1 Axes>"
      ]
     },
     "metadata": {},
     "output_type": "display_data"
    }
   ],
   "source": [
    "import matplotlib.pyplot as plt\n",
    "\n",
    "# Plotting the accuracy over epochs\n",
    "plt.plot(history.history['accuracy'])\n",
    "plt.title('Model Accuracy over Epochs client 1')\n",
    "plt.xlabel('Epoch')\n",
    "plt.ylabel('Accuracy')\n",
    "plt.show()"
   ]
  },
  {
   "cell_type": "code",
   "execution_count": null,
   "id": "10a9e574",
   "metadata": {},
   "outputs": [],
   "source": [
    "'''import socket\n",
    "import pickle\n",
    "import tensorflow as tf\n",
    "from sharedconfig import vocab_size, embedding_dim\n",
    "import numpy as np\n",
    "\n",
    "# Define the server's IP address and port\n",
    "server_ip = '192.168.94.137'  # Replace with your server's local IP address\n",
    "server_port = 12347\n",
    "\n",
    "# Create a client socket\n",
    "client_socket = socket.socket(socket.AF_INET, socket.SOCK_STREAM)\n",
    "\n",
    "# Connect to the server\n",
    "client_socket.connect((server_ip, server_port))'''"
   ]
  },
  {
   "cell_type": "code",
   "execution_count": null,
   "id": "7651c552",
   "metadata": {},
   "outputs": [],
   "source": [
    "'''# Get the client's model weights\n",
    "client_model_weights = model.get_weights()\n",
    "\n",
    "#save the weights\n",
    "model.save_weights('l_model1_weights.h5')\n",
    "\n",
    "# Serialize and send the model weights to the server\n",
    "client_weights_bytes = pickle.dumps(client_model_weights)\n",
    "client_socket.send(client_weights_bytes)\n",
    "'''"
   ]
  },
  {
   "cell_type": "code",
   "execution_count": null,
   "id": "a3ca46af",
   "metadata": {},
   "outputs": [],
   "source": [
    "#print(client_model_weights)"
   ]
  },
  {
   "cell_type": "code",
   "execution_count": null,
   "id": "6ddc5d42",
   "metadata": {},
   "outputs": [],
   "source": [
    "\n",
    "# Close the client socket\n",
    "#client_socket.close()"
   ]
  }
 ],
 "metadata": {
  "kernelspec": {
   "display_name": "Python 3 (ipykernel)",
   "language": "python",
   "name": "python3"
  },
  "language_info": {
   "codemirror_mode": {
    "name": "ipython",
    "version": 3
   },
   "file_extension": ".py",
   "mimetype": "text/x-python",
   "name": "python",
   "nbconvert_exporter": "python",
   "pygments_lexer": "ipython3",
   "version": "3.10.6"
  }
 },
 "nbformat": 4,
 "nbformat_minor": 5
}
